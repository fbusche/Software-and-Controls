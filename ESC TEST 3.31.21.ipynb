{
 "cells": [
  {
   "cell_type": "code",
   "execution_count": 13,
   "metadata": {},
   "outputs": [
    {
     "ename": "NotImplementedError",
     "evalue": "Board not supported None",
     "output_type": "error",
     "traceback": [
      "\u001b[1;31m---------------------------------------------------------------------------\u001b[0m",
      "\u001b[1;31mNotImplementedError\u001b[0m                       Traceback (most recent call last)",
      "\u001b[1;32m<ipython-input-13-c271dc6c739b>\u001b[0m in \u001b[0;36m<module>\u001b[1;34m\u001b[0m\n\u001b[0;32m     12\u001b[0m \u001b[1;32mimport\u001b[0m \u001b[0mkeyboard\u001b[0m \u001b[1;31m# takes keyboard inputs\u001b[0m\u001b[1;33m\u001b[0m\u001b[1;33m\u001b[0m\u001b[0m\n\u001b[0;32m     13\u001b[0m \u001b[1;32mimport\u001b[0m \u001b[0mtime\u001b[0m\u001b[1;33m\u001b[0m\u001b[1;33m\u001b[0m\u001b[0m\n\u001b[1;32m---> 14\u001b[1;33m \u001b[1;32mfrom\u001b[0m \u001b[0madafruit_servokit\u001b[0m \u001b[1;32mimport\u001b[0m \u001b[0mServoKit\u001b[0m \u001b[1;31m#servo library to control ESC\u001b[0m\u001b[1;33m\u001b[0m\u001b[1;33m\u001b[0m\u001b[0m\n\u001b[0m\u001b[0;32m     15\u001b[0m \u001b[1;33m\u001b[0m\u001b[0m\n\u001b[0;32m     16\u001b[0m \u001b[0mkit\u001b[0m \u001b[1;33m=\u001b[0m \u001b[0mServoKit\u001b[0m\u001b[1;33m(\u001b[0m\u001b[0mchannels\u001b[0m \u001b[1;33m=\u001b[0m \u001b[1;36m16\u001b[0m\u001b[1;33m)\u001b[0m \u001b[1;31m#16 pin pwm expansion\u001b[0m\u001b[1;33m\u001b[0m\u001b[1;33m\u001b[0m\u001b[0m\n",
      "\u001b[1;32m~\\miniconda3\\lib\\site-packages\\adafruit_servokit.py\u001b[0m in \u001b[0;36m<module>\u001b[1;34m\u001b[0m\n\u001b[0;32m     33\u001b[0m \"\"\"\n\u001b[0;32m     34\u001b[0m \u001b[1;33m\u001b[0m\u001b[0m\n\u001b[1;32m---> 35\u001b[1;33m \u001b[1;32mimport\u001b[0m \u001b[0mboard\u001b[0m\u001b[1;33m\u001b[0m\u001b[1;33m\u001b[0m\u001b[0m\n\u001b[0m\u001b[0;32m     36\u001b[0m \u001b[1;32mfrom\u001b[0m \u001b[0madafruit_pca9685\u001b[0m \u001b[1;32mimport\u001b[0m \u001b[0mPCA9685\u001b[0m\u001b[1;33m\u001b[0m\u001b[1;33m\u001b[0m\u001b[0m\n\u001b[0;32m     37\u001b[0m \u001b[1;33m\u001b[0m\u001b[0m\n",
      "\u001b[1;32m~\\miniconda3\\lib\\site-packages\\board.py\u001b[0m in \u001b[0;36m<module>\u001b[1;34m\u001b[0m\n\u001b[0;32m    214\u001b[0m \u001b[1;33m\u001b[0m\u001b[0m\n\u001b[0;32m    215\u001b[0m \u001b[1;32melse\u001b[0m\u001b[1;33m:\u001b[0m\u001b[1;33m\u001b[0m\u001b[1;33m\u001b[0m\u001b[0m\n\u001b[1;32m--> 216\u001b[1;33m     \u001b[1;32mraise\u001b[0m \u001b[0mNotImplementedError\u001b[0m\u001b[1;33m(\u001b[0m\u001b[1;34m\"Board not supported {}\"\u001b[0m\u001b[1;33m.\u001b[0m\u001b[0mformat\u001b[0m\u001b[1;33m(\u001b[0m\u001b[0mboard_id\u001b[0m\u001b[1;33m)\u001b[0m\u001b[1;33m)\u001b[0m\u001b[1;33m\u001b[0m\u001b[1;33m\u001b[0m\u001b[0m\n\u001b[0m\u001b[0;32m    217\u001b[0m \u001b[1;33m\u001b[0m\u001b[0m\n\u001b[0;32m    218\u001b[0m \u001b[1;33m\u001b[0m\u001b[0m\n",
      "\u001b[1;31mNotImplementedError\u001b[0m: Board not supported None"
     ]
    }
   ],
   "source": [
    "#EXTREMELY IMPORTANT READ BEFORE USE\n",
    "# g starts the script. hit g and then enter to start the motors from 0\n",
    "# the up and down arrows control the speed...you can figue out which does which\n",
    "# s immediately breaks the loop, and sets the motor speed = to 0\n",
    "\n",
    "#TO IMPORT keyboard on PI:\n",
    "#sudo pip3 install keyboard\n",
    "\n",
    "#TO IMPORT adafruit servo library on pi\n",
    "#sudo pip3 install adafruit-circuitpython-servokit\n",
    "\n",
    "import keyboard # takes keyboard inputs\n",
    "import time\n",
    "from adafruit_servokit import ServoKit #servo library to control ESC\n",
    "\n",
    "kit = ServoKit(channels = 16) #16 pin pwm expansion\n",
    "\n",
    "motor_speed = 0 #motor speed starting at 0\n",
    "user_in = '' #char for the user input...used to start code\n",
    "tf = True #random true to make while go brrrrrrr\n",
    "user_in = input() #waits for the user to input g\n",
    "if(user_in == 'g'):\n",
    "    while (tf): #ensure loop is always true\n",
    "        \n",
    "        if (keyboard.is_pressed('down')):\n",
    "            motor_speed -= 1 #decrement motor speed by 1\n",
    "            \n",
    "        elif (keyboard.is_pressed('up')):\n",
    "            motor_speed += 1 #decrement motor speed by 2\n",
    "            \n",
    "        elif (keyboard.is_pressed('s')):\n",
    "            motor_speed = 0 #set motor speed to 0 and break\n",
    "            break\n",
    "            \n",
    "        #next 4 lines keeps the speed between 0-180\n",
    "        if (motor_speed < 0):\n",
    "            motor_speed = 0\n",
    "        if (motor_speed > 180):\n",
    "            motor_speed = 180\n",
    "            \n",
    "        kit.servo[0].angle = motor_speed #MOTOR_SPEED MUST BE IN DEGREES FROM 0-180\n",
    "        kit.servo[1].angle = motor_speed\n",
    "        kit.servo[2].angle = motor_speed\n",
    "        kit.servo[3].angle = motor_speed\n",
    "        kit.servo[4].angle = motor_speed\n",
    "        kit.servo[5].angle = motor_speed\n",
    "        kit.servo[6].angle = motor_speed\n",
    "        kit.servo[7].angle = motor_speed\n",
    "        print(motor_speed)\n",
    "        #time.sleep(x) #If you want to add a delay, delete the first hashtag and set x to the value you want to delay by in s\n"
   ]
  },
  {
   "cell_type": "code",
   "execution_count": null,
   "metadata": {},
   "outputs": [],
   "source": []
  }
 ],
 "metadata": {
  "kernelspec": {
   "display_name": "Python 3",
   "language": "python",
   "name": "python3"
  },
  "language_info": {
   "codemirror_mode": {
    "name": "ipython",
    "version": 3
   },
   "file_extension": ".py",
   "mimetype": "text/x-python",
   "name": "python",
   "nbconvert_exporter": "python",
   "pygments_lexer": "ipython3",
   "version": "3.8.3"
  }
 },
 "nbformat": 4,
 "nbformat_minor": 4
}

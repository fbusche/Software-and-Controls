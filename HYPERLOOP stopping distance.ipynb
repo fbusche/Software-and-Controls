{
 "cells": [
  {
   "cell_type": "code",
   "execution_count": 12,
   "metadata": {},
   "outputs": [
    {
     "ename": "SyntaxError",
     "evalue": "invalid syntax (<ipython-input-12-b5dbb2e7cb77>, line 2)",
     "output_type": "error",
     "traceback": [
      "\u001b[1;36m  File \u001b[1;32m\"<ipython-input-12-b5dbb2e7cb77>\"\u001b[1;36m, line \u001b[1;32m2\u001b[0m\n\u001b[1;33m    track_length =  #Enter track length in meters\u001b[0m\n\u001b[1;37m                    ^\u001b[0m\n\u001b[1;31mSyntaxError\u001b[0m\u001b[1;31m:\u001b[0m invalid syntax\n"
     ]
    }
   ],
   "source": [
    "#ALL MEASUREMENTS ARE MEANT FOR M/S, NOTHING ELSE\n",
    "track_length =  #Enter track length in meters\n",
    "extra_track =  #Enter how much track you want left at the end of the run\n",
    "velocity =  #VELOCITY BEING READ FROM ODOMOTRY, MATCH WITH FAITH'S CODe\n",
    "position =  #POSITION BEING READ FROM ODOMOTRY, MATCH WITH FAITH'S CODE\n",
    "deceleration =  #ENTER THE DECELERATION OF THE POD (INCLUDE THE - SIGN )\n",
    "\n",
    "    stop_distance = ((-(velocity)**2)/deceleration) + (((velocity)**2)/(2*deceleration))\n",
    "\n",
    "    if ((track_length - extra_track - stop_distance) <= position):\n",
    "        print(\"STOP THE POD\")\n",
    "        motor_speed = 0\n",
    "        kit.servo[0].angle = motor_speed #MOTOR_SPEED MUST BE IN DEGREES FROM 0-180\n",
    "        kit.servo[1].angle = motor_speed\n",
    "        kit.servo[2].angle = motor_speed\n",
    "        kit.servo[3].angle = motor_speed\n",
    "        kit.servo[4].angle = motor_speed\n",
    "        kit.servo[5].angle = motor_speed\n",
    "        kit.servo[6].angle = motor_speed\n",
    "        kit.servo[7].angle = motor_speed\n",
    "        #SET MOTOR SPEEDS TO 0\n",
    "        running = False\n",
    "        break\n",
    "        "
   ]
  }
 ],
 "metadata": {
  "kernelspec": {
   "display_name": "Python 3",
   "language": "python",
   "name": "python3"
  },
  "language_info": {
   "codemirror_mode": {
    "name": "ipython",
    "version": 3
   },
   "file_extension": ".py",
   "mimetype": "text/x-python",
   "name": "python",
   "nbconvert_exporter": "python",
   "pygments_lexer": "ipython3",
   "version": "3.8.3"
  }
 },
 "nbformat": 4,
 "nbformat_minor": 4
}
